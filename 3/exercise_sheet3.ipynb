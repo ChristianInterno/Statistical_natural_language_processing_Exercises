{
 "cells": [
  {
   "cell_type": "markdown",
   "metadata": {},
   "source": [
    "Explanations regarding the evaluation are at the bottom"
   ]
  },
  {
   "cell_type": "code",
   "execution_count": 1,
   "metadata": {},
   "outputs": [],
   "source": [
    "import math\n",
    "import sys\n",
    "import numpy as np\n",
    "\n",
    "# flatten lists\n",
    "from functools import reduce\n",
    "from operator import iconcat\n",
    "\n",
    "import random\n",
    "\n",
    "\n",
    "'''\n",
    "This function can be used for importing the corpus.\n",
    "Parameters: path_to_file: string; path to the file containing the corpus\n",
    "Returns: list of list; the first layer list contains the sentences of the corpus;\n",
    "    the second layer list contains tuples (token,label) representing a labelled sentence\n",
    "'''\n",
    "def import_corpus(path_to_file):\n",
    "    sentences = []\n",
    "    sentence = []\n",
    "    f = open(path_to_file)\n",
    "\n",
    "    while True:\n",
    "        line = f.readline()\n",
    "        if not line: break\n",
    "\n",
    "        line = line.strip()\n",
    "        if len(line) == 0:\n",
    "            sentences.append(sentence)\n",
    "            sentence = []\n",
    "            continue\n",
    "\n",
    "        parts = line.split(' ')\n",
    "        sentence.append((parts[0], parts[-1]))\n",
    "\n",
    "    f.close()\n",
    "    return sentences\n",
    "\n",
    "\n",
    "\n",
    "\n",
    "class MaxEntModel(object):\n",
    "    # training corpus\n",
    "    corpus = None\n",
    "    \n",
    "    # (numpy) array containing the parameters of the model\n",
    "    # has to be initialized by the method 'initialize'\n",
    "    theta = None\n",
    "    \n",
    "    # dictionary containing all possible features of a corpus and their corresponding index;\n",
    "    # has to be set by the method 'initialize'; hint: use a Python dictionary\n",
    "    feature_indices = None\n",
    "    \n",
    "    # set containing a list of possible lables\n",
    "    # has to be set by the method 'initialize'\n",
    "    labels = None\n",
    "    \n",
    "    \n",
    "    cond_normalization_factor_memoization = {}\n",
    "    \n",
    "    # number of words used in training so far\n",
    "    training_words_number = 0\n",
    "    \n",
    "    START_LABEL = '<START>'\n",
    "    \n",
    "    \n",
    "    # Exercise 1 a) ###################################################################\n",
    "    def initialize(self, corpus):\n",
    "        '''\n",
    "        Initialize the maximun entropy model, i.e., build the set of all features, the set of all labels\n",
    "        and create an initial array 'theta' for the parameters of the model.\n",
    "        Parameters: corpus: list of list representing the corpus, returned by the function 'import_corpus'\n",
    "        '''\n",
    "        self.corpus = corpus\n",
    "\n",
    "        # get set of words\n",
    "        words = list(map(lambda sentence: list(map(lambda pair: pair[0], sentence)), corpus))\n",
    "        words = set(reduce(iconcat, words, []))\n",
    "\n",
    "        # get set of labels\n",
    "        labels = list(map(lambda sentence: list(map(lambda pair: pair[1], sentence)), corpus))\n",
    "        labels = set(reduce(iconcat, labels, []))\n",
    "        labels.add(MaxEntModel.START_LABEL)\n",
    "        \n",
    "        self.labels = labels        \n",
    "        \n",
    "        self.feature_indices = {}\n",
    "\n",
    "        index = 0\n",
    "\n",
    "        for word in words:\n",
    "            for tag in labels:\n",
    "                self.feature_indices[(word, tag)] = index\n",
    "                index += 1\n",
    "        \n",
    "        for prev in labels:\n",
    "            for curr in labels:\n",
    "                self.feature_indices[(prev, curr)] = index\n",
    "                index += 1\n",
    "        \n",
    "        self.theta = np.ones(index)\n",
    "    \n",
    "    \n",
    "    # Exercise 1 b) ###################################################################\n",
    "    def get_active_features(self, word, label, prev_label):\n",
    "        '''\n",
    "        Compute the vector of active features.\n",
    "        Parameters: word: string; a word at some position i of a given sentence\n",
    "                    label: string; a label assigned to the given word\n",
    "                    prev_label: string; the label of the word at position i-1\n",
    "        Returns: (numpy) array containing only zeros and ones.\n",
    "        '''\n",
    "        \n",
    "        active_features = {(word, label), (prev_label, label)}\n",
    "        \n",
    "        active_features_vector = np.zeros(len(self.theta))\n",
    "        \n",
    "        for feature in active_features:\n",
    "            # if the feature is present in the training features\n",
    "            if feature in self.feature_indices:\n",
    "                active_features_vector[self.feature_indices[feature]] = 1\n",
    "        \n",
    "        return active_features_vector\n",
    "\n",
    "\n",
    "\n",
    "    # Exercise 2 a) ###################################################################\n",
    "    def cond_normalization_factor(self, word, prev_label):\n",
    "        '''\n",
    "        Compute the normalization factor 1/Z(x_i).\n",
    "        Parameters: word: string; a word x_i at some position i of a given sentence\n",
    "                    prev_label: string; the label of the word at position i-1\n",
    "        Returns: float\n",
    "        '''\n",
    "        \n",
    "        # we use memoization to avoid recalculating the normalization factor\n",
    "        if (word, prev_label) in self.cond_normalization_factor_memoization:\n",
    "            return self.cond_normalization_factor_memoization[(word, prev_label)]\n",
    "        \n",
    "        z = 0\n",
    "        for label in self.labels:\n",
    "            exponent = np.dot(self.theta, self.get_active_features(word, label, prev_label))\n",
    "            z += math.e ** exponent\n",
    "            \n",
    "        factor = 1 / z\n",
    "        \n",
    "        self.cond_normalization_factor_memoization[(word, prev_label)] = factor\n",
    "        \n",
    "        return factor\n",
    "        \n",
    "    \n",
    "    # Exercise 2 b) ###################################################################\n",
    "    def conditional_probability(self, label, word, prev_label):\n",
    "        '''\n",
    "        Compute the conditional probability of a label given a word x_i.\n",
    "        Parameters: label: string; we are interested in the conditional probability of this label\n",
    "                    word: string; a word x_i some position i of a given sentence\n",
    "                    prev_label: string; the label of the word at position i-1\n",
    "        Returns: float\n",
    "        '''\n",
    "        \n",
    "        exponent = np.dot(self.theta, self.get_active_features(word, label, prev_label))\n",
    "        return self.cond_normalization_factor(word, prev_label) * math.e ** exponent    \n",
    "    \n",
    "    \n",
    "    \n",
    "    # Exercise 3 a) ###################################################################\n",
    "    def empirical_feature_count(self, word, label, prev_label):\n",
    "        '''\n",
    "        Compute the empirical feature count given a word, the actual label of this word and the label of the previous word.\n",
    "        Parameters: word: string; a word x_i some position i of a given sentence\n",
    "                    label: string; the actual label of the given word\n",
    "                    prev_label: string; the label of the word at position i-1\n",
    "        Returns: (numpy) array containing the empirical feature count\n",
    "        '''\n",
    "        \n",
    "        return self.get_active_features(word, label, prev_label)    \n",
    "    \n",
    "    \n",
    "    \n",
    "    # Exercise 3 b) ###################################################################\n",
    "    def expected_feature_count(self, word, prev_label):\n",
    "        '''\n",
    "        Compute the expected feature count given a word, the label of the previous word and the parameters of the current model\n",
    "        (see variable theta)\n",
    "        Parameters: word: string; a word x_i some position i of a given sentence\n",
    "                    prev_label: string; the label of the word at position i-1\n",
    "        Returns: (numpy) array containing the expected feature count\n",
    "        '''\n",
    "        \n",
    "        expected = np.zeros(len(self.theta))\n",
    "        \n",
    "        for label in self.labels:\n",
    "            active_features = self.get_active_features(word, label, prev_label)\n",
    "            conditional_probability = self.conditional_probability(label, word, prev_label)\n",
    "            \n",
    "            expected = expected + np.dot(conditional_probability, active_features)\n",
    "            \n",
    "        return expected\n",
    "    \n",
    "    \n",
    "    # Exercise 4 a) ###################################################################\n",
    "    def parameter_update(self, word, label, prev_label, learning_rate):\n",
    "        '''\n",
    "        Do one learning step.\n",
    "        Parameters: word: string; a randomly selected word x_i at some position i of a given sentence\n",
    "                    label: string; the actual label of the selected word\n",
    "                    prev_label: string; the label of the word at position i-1\n",
    "                    learning_rate: float\n",
    "        '''\n",
    "        \n",
    "        empirical_count = self.empirical_feature_count(word, label, prev_label)\n",
    "        expected_count = self.expected_feature_count(word, prev_label)\n",
    "        \n",
    "        self.theta += learning_rate * (empirical_count - expected_count)\n",
    "        self.cond_normalization_factor_memoization = {}\n",
    "        \n",
    "    \n",
    "    \n",
    "    # Exercise 4 b) ###################################################################\n",
    "    def train(self, number_iterations, learning_rate=0.1):\n",
    "        '''\n",
    "        Implement the training procedure.\n",
    "        Parameters: number_iterations: int; number of parameter updates to do\n",
    "                    learning_rate: float\n",
    "        '''\n",
    "                    \n",
    "        for sentence in self.corpus:\n",
    "            last_label = MaxEntModel.START_LABEL\n",
    "            for word, label in sentence:\n",
    "                self.parameter_update(word, label, last_label, learning_rate)\n",
    "                self.training_words_number += 1\n",
    "                number_iterations -= 1\n",
    "                if number_iterations == 0:\n",
    "                    return\n",
    "    \n",
    "    \n",
    "    # Exercise 4 c) ###################################################################\n",
    "    def predict(self, word, prev_label):\n",
    "        '''\n",
    "        Predict the most probable label of the word referenced by 'word'\n",
    "        Parameters: word: string; a word x_i at some position i of a given sentence\n",
    "                    prev_label: string; the label of the word at position i-1\n",
    "        Returns: string; most probable label\n",
    "        '''\n",
    "        most_probable_lable = None\n",
    "        greatest_probability = 0\n",
    "        \n",
    "        for label in self.labels:\n",
    "            label_probability = self.conditional_probability(label, word, prev_label)\n",
    "            if label_probability >= greatest_probability:\n",
    "                greatest_probability = label_probability\n",
    "                most_probable_lable = label\n",
    "                \n",
    "        return most_probable_lable\n",
    "    \n",
    "    \n",
    "    # Exercise 5 a) ###################################################################\n",
    "    def empirical_feature_count_batch(self, sentences):\n",
    "        '''\n",
    "        Predict the empirical feature count for a set of sentences\n",
    "        Parameters: sentences: list; a list of sentences; should be a sublist of the list returnd by 'import_corpus'\n",
    "        Returns: (numpy) array containing the empirical feature count\n",
    "        '''\n",
    "        empirical_feature_sum = np.zeros(len(self.feature_indices))\n",
    "        \n",
    "        for sentence in sentences:\n",
    "            prev_label = MaxEntModel.START_LABEL\n",
    "            for word, label in sentence:\n",
    "                empirical_feature_sum = empirical_feature_sum + self.empirical_feature_count(word, label, prev_label)\n",
    "                prev_label = label\n",
    "                \n",
    "        return empirical_feature_sum\n",
    "    \n",
    "    \n",
    "    # Exercise 5 a) ###################################################################\n",
    "    def expected_feature_count_batch(self, sentences):\n",
    "        '''\n",
    "        Predict the expected feature count for a set of sentences\n",
    "        Parameters: sentences: list; a list of sentences; should be a sublist of the list returnd by 'import_corpus'\n",
    "        Returns: (numpy) array containing the expected feature count\n",
    "        '''\n",
    "        \n",
    "        expected_feature_sum = np.zeros(len(self.feature_indices))\n",
    "        \n",
    "        for sentence in sentences:\n",
    "            prev_label = MaxEntModel.START_LABEL\n",
    "            for word, label in sentence:\n",
    "                expected_feature_sum = expected_feature_sum + self.expected_feature_count(word, prev_label)\n",
    "                prev_label = label\n",
    "                \n",
    "        return expected_feature_sum\n",
    "        \n",
    "    \n",
    "    \n",
    "    # Exercise 5 b) ###################################################################\n",
    "    def train_batch(self, number_iterations, batch_size, learning_rate=0.1):\n",
    "        '''\n",
    "        Implement the training procedure which uses 'batch_size' sentences from to training corpus\n",
    "        to compute the gradient.\n",
    "        Parameters: number_iterations: int; number of parameter updates to do\n",
    "                    batch_size: int; number of sentences to use in each iteration\n",
    "                    learning_rate: float\n",
    "        '''\n",
    "        \n",
    "        for _ in range(number_iterations):\n",
    "            for sentence in random.sample(self.corpus, batch_size):\n",
    "                last_label = MaxEntModel.START_LABEL\n",
    "                for word, label in sentence:\n",
    "                    self.parameter_update(word, label, last_label, learning_rate)\n",
    "                    self.training_words_number += 1\n",
    "    "
   ]
  },
  {
   "cell_type": "code",
   "execution_count": 2,
   "metadata": {},
   "outputs": [],
   "source": [
    "corpus = import_corpus('corpus_pos.txt')\n",
    "# print(corpus)"
   ]
  },
  {
   "cell_type": "code",
   "execution_count": 3,
   "metadata": {},
   "outputs": [
    {
     "name": "stdout",
     "output_type": "stream",
     "text": [
      "|Theta| ==  571458\n",
      "Labels:  {'TO', '<START>', 'WP$', 'RBS', 'WRB', ':', 'NNPS', '-RRB-', '$', 'PDT', 'RP', 'WDT', '.', 'VBG', 'RB', 'VBZ', 'JJR', 'NN', 'JJS', 'EX', 'JJ', 'NNP', 'VBN', 'RBR', 'VBD', 'PRP', ',', 'NNS', \"''\", '-NONE-', 'MD', 'IN', 'VB', 'FW', 'CD', 'UH', 'LS', 'VBP', 'POS', 'SYM', 'PRP$', '-LRB-', '``', 'CC', 'DT', 'WP'}\n"
     ]
    }
   ],
   "source": [
    "maxent = MaxEntModel()\n",
    "maxent.initialize(corpus)\n",
    "print('|Theta| == ', len(maxent.theta))\n",
    "print('Labels: ', maxent.labels)"
   ]
  },
  {
   "cell_type": "code",
   "execution_count": 4,
   "metadata": {},
   "outputs": [],
   "source": [
    "test_word, test_label, test_prev_label = ('starters', 'NNS', 'IN')\n",
    "s = np.sum(maxent.get_active_features(test_word, test_label, test_prev_label))\n",
    "if s != 2:\n",
    "    print('Error: ', s)"
   ]
  },
  {
   "cell_type": "code",
   "execution_count": 5,
   "metadata": {},
   "outputs": [
    {
     "name": "stdout",
     "output_type": "stream",
     "text": [
      "0.0029420713747089714\n"
     ]
    }
   ],
   "source": [
    "z = maxent.cond_normalization_factor(test_word, test_prev_label)\n",
    "print(z)"
   ]
  },
  {
   "cell_type": "code",
   "execution_count": 6,
   "metadata": {},
   "outputs": [
    {
     "name": "stdout",
     "output_type": "stream",
     "text": [
      "0.021739130434782605\n"
     ]
    }
   ],
   "source": [
    "p = maxent.conditional_probability(\"-NONE-\", test_word, test_prev_label)\n",
    "print(p)"
   ]
  },
  {
   "cell_type": "code",
   "execution_count": 7,
   "metadata": {},
   "outputs": [
    {
     "name": "stdout",
     "output_type": "stream",
     "text": [
      "[0. 0. 0. ... 0. 0. 0.] [0. 0. 0. ... 0. 0. 0.]\n",
      "2.0\n",
      "1.9999999999999996\n"
     ]
    }
   ],
   "source": [
    "enp = maxent.empirical_feature_count(test_word, test_label, test_prev_label)\n",
    "exp = maxent.expected_feature_count(test_word, test_prev_label)\n",
    "print(enp, exp)\n",
    "print(np.sum(enp))\n",
    "print(np.sum(exp))"
   ]
  },
  {
   "cell_type": "code",
   "execution_count": 8,
   "metadata": {},
   "outputs": [
    {
     "name": "stdout",
     "output_type": "stream",
     "text": [
      "571458.0\n"
     ]
    }
   ],
   "source": [
    "maxent.train(10)\n",
    "print(np.sum(maxent.theta))"
   ]
  },
  {
   "cell_type": "code",
   "execution_count": 9,
   "metadata": {},
   "outputs": [
    {
     "name": "stdout",
     "output_type": "stream",
     "text": [
      "WP\n"
     ]
    }
   ],
   "source": [
    "print(maxent.predict(test_word, test_prev_label))"
   ]
  },
  {
   "cell_type": "code",
   "execution_count": 10,
   "metadata": {},
   "outputs": [
    {
     "name": "stdout",
     "output_type": "stream",
     "text": [
      "62.0\n"
     ]
    }
   ],
   "source": [
    "emp = maxent.empirical_feature_count_batch(corpus[:2])\n",
    "print(np.sum(emp))"
   ]
  },
  {
   "cell_type": "code",
   "execution_count": 11,
   "metadata": {},
   "outputs": [
    {
     "name": "stdout",
     "output_type": "stream",
     "text": [
      "62.0\n"
     ]
    }
   ],
   "source": [
    "exp = maxent.expected_feature_count_batch(corpus[:2])\n",
    "print(np.sum(exp))"
   ]
  },
  {
   "cell_type": "code",
   "execution_count": 12,
   "metadata": {},
   "outputs": [
    {
     "name": "stdout",
     "output_type": "stream",
     "text": [
      "571458.0\n"
     ]
    }
   ],
   "source": [
    "maxent.train_batch(1, 1)\n",
    "print(np.sum(maxent.theta))"
   ]
  },
  {
   "cell_type": "code",
   "execution_count": 13,
   "metadata": {},
   "outputs": [],
   "source": [
    "def get_accuracy(model, test_set):\n",
    "    hits = 0\n",
    "    total = 0\n",
    "\n",
    "    for sentence in test_set:\n",
    "        prev_label = MaxEntModel.START_LABEL\n",
    "        for word, label in sentence:\n",
    "            prediction = model.predict(word, prev_label)\n",
    "        \n",
    "            total += 1\n",
    "            if prediction == label:\n",
    "                hits += 1\n",
    "            \n",
    "            prev_label = label\n",
    "\n",
    "    return hits/total\n",
    "    \n",
    "\n",
    "# Exercise 5 c) ###################################################################\n",
    "    \n",
    "# split the corpus into training and test set\n",
    "random.shuffle(corpus)\n",
    "training_set = corpus[:int(len(corpus) * 0.90)]\n",
    "test_set = corpus[int(len(corpus) * 0.90):]\n",
    "\n",
    "A = MaxEntModel()\n",
    "A.initialize(training_set)\n",
    "\n",
    "B = MaxEntModel()\n",
    "B.initialize(training_set)\n",
    "\n",
    "N = 20\n",
    "A.train(N)\n",
    "B.train_batch(N, 1)"
   ]
  },
  {
   "cell_type": "code",
   "execution_count": 14,
   "metadata": {},
   "outputs": [
    {
     "name": "stdout",
     "output_type": "stream",
     "text": [
      "0.028368794326241134\n",
      "0.3617021276595745\n"
     ]
    }
   ],
   "source": [
    "accuracy_A = get_accuracy(A, test_set[:10])\n",
    "accuracy_B = get_accuracy(B, test_set[:10])\n",
    "\n",
    "print(accuracy_A)\n",
    "print(accuracy_B)"
   ]
  },
  {
   "cell_type": "code",
   "execution_count": 15,
   "metadata": {},
   "outputs": [
    {
     "name": "stderr",
     "output_type": "stream",
     "text": [
      "\n",
      "Bad key savefig.frameon in file /home/michele/miniconda3/lib/python3.8/site-packages/matplotlib/mpl-data/stylelib/_classic_test.mplstyle, line 421 ('savefig.frameon : True')\n",
      "You probably need to get an updated matplotlibrc file from\n",
      "https://github.com/matplotlib/matplotlib/blob/v3.3.3/matplotlibrc.template\n",
      "or from the matplotlib source distribution\n",
      "\n",
      "Bad key verbose.level in file /home/michele/miniconda3/lib/python3.8/site-packages/matplotlib/mpl-data/stylelib/_classic_test.mplstyle, line 472 ('verbose.level  : silent      # one of silent, helpful, debug, debug-annoying')\n",
      "You probably need to get an updated matplotlibrc file from\n",
      "https://github.com/matplotlib/matplotlib/blob/v3.3.3/matplotlibrc.template\n",
      "or from the matplotlib source distribution\n",
      "\n",
      "Bad key verbose.fileo in file /home/michele/miniconda3/lib/python3.8/site-packages/matplotlib/mpl-data/stylelib/_classic_test.mplstyle, line 473 ('verbose.fileo  : sys.stdout  # a log filename, sys.stdout or sys.stderr')\n",
      "You probably need to get an updated matplotlibrc file from\n",
      "https://github.com/matplotlib/matplotlib/blob/v3.3.3/matplotlibrc.template\n",
      "or from the matplotlib source distribution\n",
      "In /home/michele/miniconda3/lib/python3.8/site-packages/matplotlib/mpl-data/stylelib/_classic_test.mplstyle: \n",
      "The text.latex.preview rcparam was deprecated in Matplotlib 3.3 and will be removed two minor releases later.\n",
      "In /home/michele/miniconda3/lib/python3.8/site-packages/matplotlib/mpl-data/stylelib/_classic_test.mplstyle: \n",
      "The mathtext.fallback_to_cm rcparam was deprecated in Matplotlib 3.3 and will be removed two minor releases later.\n",
      "In /home/michele/miniconda3/lib/python3.8/site-packages/matplotlib/mpl-data/stylelib/_classic_test.mplstyle: Support for setting the 'mathtext.fallback_to_cm' rcParam is deprecated since 3.3 and will be removed two minor releases later; use 'mathtext.fallback : 'cm' instead.\n",
      "In /home/michele/miniconda3/lib/python3.8/site-packages/matplotlib/mpl-data/stylelib/_classic_test.mplstyle: \n",
      "The validate_bool_maybe_none function was deprecated in Matplotlib 3.3 and will be removed two minor releases later.\n",
      "In /home/michele/miniconda3/lib/python3.8/site-packages/matplotlib/mpl-data/stylelib/_classic_test.mplstyle: \n",
      "The savefig.jpeg_quality rcparam was deprecated in Matplotlib 3.3 and will be removed two minor releases later.\n",
      "In /home/michele/miniconda3/lib/python3.8/site-packages/matplotlib/mpl-data/stylelib/_classic_test.mplstyle: \n",
      "The keymap.all_axes rcparam was deprecated in Matplotlib 3.3 and will be removed two minor releases later.\n",
      "In /home/michele/miniconda3/lib/python3.8/site-packages/matplotlib/mpl-data/stylelib/_classic_test.mplstyle: \n",
      "The animation.avconv_path rcparam was deprecated in Matplotlib 3.3 and will be removed two minor releases later.\n",
      "In /home/michele/miniconda3/lib/python3.8/site-packages/matplotlib/mpl-data/stylelib/_classic_test.mplstyle: \n",
      "The animation.avconv_args rcparam was deprecated in Matplotlib 3.3 and will be removed two minor releases later.\n"
     ]
    },
    {
     "name": "stdout",
     "output_type": "stream",
     "text": [
      "0.0014184397163120566\n",
      "0.0007914707388612134\n"
     ]
    },
    {
     "data": {
      "image/png": "[encoded data removed]",
      "text/plain": [
       "<Figure size 432x288 with 1 Axes>"
      ]
     },
     "metadata": {
      "needs_background": "light"
     },
     "output_type": "display_data"
    }
   ],
   "source": [
    "import matplotlib.pyplot as plt\n",
    "\n",
    "print(accuracy_A/A.training_words_number)\n",
    "print(accuracy_B/B.training_words_number)\n",
    "\n",
    "results_list = [accuracy_A/A.training_words_number, accuracy_B/B.training_words_number]\n",
    "    \n",
    "plt.bar(['A', 'B'], results_list)\n",
    "plt.ylabel('Accuracy against number of words')\n",
    "plt.show()"
   ]
  },
  {
   "cell_type": "markdown",
   "metadata": {},
   "source": [
    "I would expect the accuracy against number of words to be more or less the same for the two models. I guess this doesn't happen in the previous evaluation because the input data is not enough to have quality results.\n",
    "\n",
    "The only true difference of the two training methods is that B (considering a large number of iterations) will consider the same sentences more than once, because the sentences are sampled randomly.\n",
    "\n",
    "I couldn't use a larger amount of data because of the time complexity of this implementation of the model."
   ]
  }
 ],
 "metadata": {
  "kernelspec": {
   "display_name": "Python 3",
   "language": "python",
   "name": "python3"
  },
  "language_info": {
   "codemirror_mode": {
    "name": "ipython",
    "version": 3
   },
   "file_extension": ".py",
   "mimetype": "text/x-python",
   "name": "python",
   "nbconvert_exporter": "python",
   "pygments_lexer": "ipython3",
   "version": "3.8.5"
  }
 },
 "nbformat": 4,
 "nbformat_minor": 4
}
